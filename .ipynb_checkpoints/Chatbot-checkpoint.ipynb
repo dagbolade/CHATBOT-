{
 "cells": [
  {
   "cell_type": "raw",
   "id": "d42719e3",
   "metadata": {
    "scrolled": false
   },
   "source": []
  },
  {
   "cell_type": "raw",
   "id": "3e6f0514",
   "metadata": {},
   "source": []
  },
  {
   "cell_type": "code",
   "execution_count": 13,
   "id": "29907e51",
   "metadata": {},
   "outputs": [
    {
     "name": "stdout",
     "output_type": "stream",
     "text": [
      "Chatbot started.......\n",
      "hey\n",
      "Good to see you again, how can i be of help\n",
      "i feel sick\n",
      "Okay. can you tell me what's wrong? what are your symptoms?\n",
      "i have headache\n",
      "This is a symptom of fever, you should take a tablet of ibrupofen or tylenol after you have your meal.\n",
      "ok thanks\n",
      "My pleasure\n",
      "close\n",
      "Hi there, how can I help?\n"
     ]
    }
   ],
   "source": [
    "import random\n",
    "import pickle\n",
    "import numpy as np\n",
    "import json\n",
    "\n",
    "import nltk\n",
    "from nltk.stem import WordNetLemmatizer\n",
    "\n",
    "\n",
    "from tensorflow.keras.models import load_model\n",
    "\n",
    "\n",
    "lemmatizer = WordNetLemmatizer()\n",
    "\n",
    "intents = json.loads(open('intents.json').read())\n",
    "\n",
    "words = pickle.load(open('words.pkl', 'rb'))\n",
    "classes = pickle.load(open('classes.pkl', 'rb'))\n",
    "model = load_model('Chatbot_model.h5')\n",
    "\n",
    "def clean_sentence(sentence):\n",
    "    words_sentence = nltk.word_tokenize(sentence)\n",
    "    words_sentence = [lemmatizer.lemmatize(word) for word in words_sentence]\n",
    "    return words_sentence\n",
    "\n",
    "def words_box(sentence, show_details=True):\n",
    "    words_sentence = clean_sentence(sentence)\n",
    "    box = [0] * len(words)\n",
    "    for j in words_sentence:\n",
    "        for i, word in enumerate(words):\n",
    "            if word == j:\n",
    "                box[i] = 1\n",
    "                if show_details:\n",
    "                    print (\"found in bag: %s\" % word)\n",
    "    return np.array(box) \n",
    "\n",
    "def prediction(sentence):\n",
    "    bd = words_box(sentence,show_details = False)\n",
    "    res = model.predict(np.array([bd]))[0]\n",
    "    ERROR_THRESHOLD = 0.25\n",
    "    results = [[i, r] for i, r in enumerate(res) if r > ERROR_THRESHOLD]\n",
    "    \n",
    "    results.sort(key = lambda x: x[1], reverse = True)\n",
    "    get_back_list = []\n",
    "    for r in results:\n",
    "        get_back_list.append({'intent': classes[r[0]], 'probability': str(r[1])})\n",
    "    return get_back_list\n",
    "\n",
    "def get_reply(intents_list, intents_json):\n",
    "    tag = intents_list[0]['intent']\n",
    "    all_intents = intents_json['intents']\n",
    "    for i in all_intents:\n",
    "        if i['tag'] == tag:\n",
    "            result = random.choice(i['responses'])\n",
    "            break\n",
    "            \n",
    "            \n",
    "    return result\n",
    "\n",
    "print(\"Chatbot started.......\")\n",
    "\n",
    "while True:\n",
    "    message = input(\"\")\n",
    "    pred = prediction(message)\n",
    "    res = get_reply(pred, intents)\n",
    "    print(res)\n",
    "    \n",
    "    if message == 'close':\n",
    "        break"
   ]
  },
  {
   "cell_type": "code",
   "execution_count": null,
   "id": "a682bb96",
   "metadata": {},
   "outputs": [],
   "source": []
  }
 ],
 "metadata": {
  "kernelspec": {
   "display_name": "Python 3",
   "language": "python",
   "name": "python3"
  },
  "language_info": {
   "codemirror_mode": {
    "name": "ipython",
    "version": 3
   },
   "file_extension": ".py",
   "mimetype": "text/x-python",
   "name": "python",
   "nbconvert_exporter": "python",
   "pygments_lexer": "ipython3",
   "version": "3.8.8"
  }
 },
 "nbformat": 4,
 "nbformat_minor": 5
}
